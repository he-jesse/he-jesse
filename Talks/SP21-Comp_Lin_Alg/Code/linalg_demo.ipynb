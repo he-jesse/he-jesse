{
 "metadata": {
  "language_info": {
   "codemirror_mode": {
    "name": "ipython",
    "version": 3
   },
   "file_extension": ".py",
   "mimetype": "text/x-python",
   "name": "python",
   "nbconvert_exporter": "python",
   "pygments_lexer": "ipython3",
   "version": "3.7.4-final"
  },
  "orig_nbformat": 2,
  "kernelspec": {
   "name": "python3",
   "display_name": "Python 3.7.4 64-bit",
   "metadata": {
    "interpreter": {
     "hash": "f13463527b9f9fb34e630820bb87efb6ea0ee6df778cc0c5b349b08ba10c8937"
    }
   }
  }
 },
 "nbformat": 4,
 "nbformat_minor": 2,
 "cells": [
  {
   "source": [
    "# Algorithms from Linear Algebra"
   ],
   "cell_type": "markdown",
   "metadata": {}
  },
  {
   "source": [
    "## Gaussian Elimination\n",
    "\n",
    "Here is a simple implementation to find a solution to a linear system."
   ],
   "cell_type": "markdown",
   "metadata": {}
  },
  {
   "source": [
    "# Make sure to execute this before the example\n",
    "\n",
    "import numpy as np\n",
    "import sys\n",
    "\n",
    "def gaussian_elimination(n, A):\n",
    "    a = A.astype(np.float)\n",
    "    x = np.zeros(n)\n",
    "    # Turn ary into an upper triangular matrix\n",
    "    for i in range(n):\n",
    "        if a[i,i] == 0.0:\n",
    "            # If the matrix is not invertable, this may result in a divide by 0\n",
    "            sys.exit('This matrix is singular')\n",
    "        \n",
    "        # Eliminate the ith unknown from the jth equation\n",
    "        for j in range(i + 1, n):\n",
    "            ratio = a[j,i] / a[i,i]\n",
    "            for k in range(n + 1):\n",
    "                a[j,k] = a[j,k] - ratio * a[i,k]\n",
    "\n",
    "    # Once upper triangular, use substitution to find the solution vector\n",
    "    x[n-1] = a[n-1,n] / a[n-1,n-1]\n",
    "    for i in range(n - 2, -1, -1):\n",
    "        x[i] = a[i,n]\n",
    "        for j in range(i + 1, n):\n",
    "            x[i] = x[i] - a[i,j] * x[j]\n",
    "        x[i] = x[i] / a[i,i]\n",
    "    return x\n"
   ],
   "cell_type": "code",
   "metadata": {},
   "execution_count": null,
   "outputs": []
  },
  {
   "source": [
    "Let's try it on an example:"
   ],
   "cell_type": "markdown",
   "metadata": {}
  },
  {
   "cell_type": "code",
   "execution_count": null,
   "metadata": {},
   "outputs": [],
   "source": [
    "wheat_matrix = np.matrix(\n",
    "   [[3, 2, 1, 39],\n",
    "    [2, 3, 1, 34],\n",
    "    [1, 2, 3, 26]]\n",
    ")\n",
    "yields = gaussian_elimination(3, wheat_matrix)\n",
    "\n",
    "print(\"Superior grain yields \" + str(yields[0]))\n",
    "print(\"Medium grain yields \" + str(yields[1]))\n",
    "print(\"Inferior grain yields \" + str(yields[2]))"
   ]
  },
  {
   "source": [
    "## Laplace Expansion\n",
    "\n",
    "Here we compute the determinant of a matrix via Laplace expansion, using matrix minors."
   ],
   "cell_type": "markdown",
   "metadata": {}
  },
  {
   "cell_type": "code",
   "execution_count": null,
   "metadata": {},
   "outputs": [],
   "source": [
    "def determinant(n, ary):\n",
    "    if n == 1:\n",
    "        # A matrix of one entry has determinant that entry\n",
    "        return ary[0,0]\n",
    "    else:\n",
    "        a = ary.astype(np.float)\n",
    "        det = 0\n",
    "        # For each column, find the minor with the same algorithm, then add with the appropriate sign\n",
    "        for i in range(0,n):\n",
    "            det += (-1)**i * a[0,i] * determinant(n-1, np.delete(np.delete(a, 0, 0), i, 1))\n",
    "        return det"
   ]
  },
  {
   "cell_type": "code",
   "execution_count": null,
   "metadata": {},
   "outputs": [],
   "source": [
    "ary_0 = np.matrix([1])\n",
    "ary_1 = np.matrix([[1,2],[3,4]])\n",
    "ary_2 = np.matrix(\n",
    "   [[3, 2, 1],\n",
    "    [2, 3, 1],\n",
    "    [1, 2, 3]]\n",
    ")\n",
    "print(determinant(1, ary_0))\n",
    "print(determinant(2, ary_1))\n",
    "print(determinant(3, ary_2))"
   ]
  },
  {
   "source": [
    "## Power Iteration\n",
    "\n",
    "Here we can compute the largest eigenvalue of a matrix using power iteration, using a numpy implementation from Wikipedia"
   ],
   "cell_type": "markdown",
   "metadata": {}
  },
  {
   "cell_type": "code",
   "execution_count": null,
   "metadata": {},
   "outputs": [],
   "source": [
    "def power_iteration(A, num_simulations: int):\n",
    "    # Choose a random vector\n",
    "    b_k = np.random.rand(A.shape[1])\n",
    "\n",
    "    for _ in range(num_simulations):\n",
    "        # calculate the matrix-by-vector product Ab\n",
    "        b_k1 = np.dot(A, b_k)\n",
    "        # calculate the norm\n",
    "        b_k1_norm = np.linalg.norm(b_k1)\n",
    "        # re normalize the vector\n",
    "        b_k = b_k1 / b_k1_norm\n",
    "    return b_k\n",
    "\n",
    "def rayleigh_quotient(v, A):\n",
    "    Av = np.dot(A, v)\n",
    "    return np.dot(Av, v) / np.linalg.norm(v)"
   ]
  },
  {
   "cell_type": "code",
   "execution_count": null,
   "metadata": {},
   "outputs": [],
   "source": [
    "A = np.array([[0.5, 0.5],\n",
    "              [0.2, 0.8]])\n",
    "\n",
    "v = power_iteration(A, 10)\n",
    "\n",
    "lam = rayleigh_quotient(v, A)\n",
    "print(\"A has eigenvalue \" + str(lam))\n",
    "print(\"with eigenvector\" + str(v))"
   ]
  }
 ]
}