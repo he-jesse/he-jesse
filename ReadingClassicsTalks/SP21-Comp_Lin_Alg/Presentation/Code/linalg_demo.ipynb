{
 "metadata": {
  "language_info": {
   "codemirror_mode": {
    "name": "ipython",
    "version": 3
   },
   "file_extension": ".py",
   "mimetype": "text/x-python",
   "name": "python",
   "nbconvert_exporter": "python",
   "pygments_lexer": "ipython3",
   "version": "3.7.4-final"
  },
  "orig_nbformat": 2,
  "kernelspec": {
   "name": "python3",
   "display_name": "Python 3.7.4 64-bit",
   "metadata": {
    "interpreter": {
     "hash": "f13463527b9f9fb34e630820bb87efb6ea0ee6df778cc0c5b349b08ba10c8937"
    }
   }
  }
 },
 "nbformat": 4,
 "nbformat_minor": 2,
 "cells": [
  {
   "source": [
    "# Gaussian Elimination\n",
    "Here's an implementation of the general algorithm for Gaussian elimination:"
   ],
   "cell_type": "markdown",
   "metadata": {}
  },
  {
   "source": [
    "# Make sure to execute this before the example\n",
    "\n",
    "import numpy as np\n",
    "import sys\n",
    "\n",
    "def GaussianElimination(n, ary):\n",
    "    a = ary.astype(np.float)\n",
    "    x = np.zeros(n)\n",
    "    for i in range(n):\n",
    "        if a[i,i] == 0.0:\n",
    "            sys.exit('This matrix is singular')\n",
    "        for j in range(i + 1, n):\n",
    "            ratio = a[j,i] / a[i,i]\n",
    "            for k in range(n + 1):\n",
    "                a[j,k] = a[j,k] - ratio * a[i,k]\n",
    "\n",
    "    x[n-1] = a[n-1,n] / a[n-1,n-1]\n",
    "    for i in range(n - 2, -1, -1):\n",
    "        x[i] = a[i,n]\n",
    "        for j in range(i + 1, n):\n",
    "            x[i] = x[i] - a[i,j] * x[j]\n",
    "        x[i] = x[i] / a[i,i]\n",
    "    return x\n"
   ],
   "cell_type": "code",
   "metadata": {},
   "execution_count": 9,
   "outputs": []
  },
  {
   "source": [
    "Let's try it on an example:"
   ],
   "cell_type": "markdown",
   "metadata": {}
  },
  {
   "cell_type": "code",
   "execution_count": 10,
   "metadata": {},
   "outputs": [
    {
     "output_type": "stream",
     "name": "stdout",
     "text": [
      "Superior grain yields 9.25\nMedium grain yields 4.25\nInferior grain yields 2.75\n"
     ]
    }
   ],
   "source": [
    "wheat_matrix = np.matrix(\n",
    "   [[3, 2, 1, 39],\n",
    "    [2, 3, 1, 34],\n",
    "    [1, 2, 3, 26]]\n",
    ")\n",
    "yields = GaussianElimination(3, wheat_matrix)\n",
    "\n",
    "print(\"Superior grain yields \" + str(yields[0]))\n",
    "print(\"Medium grain yields \" + str(yields[1]))\n",
    "print(\"Inferior grain yields \" + str(yields[2]))"
   ]
  },
  {
   "source": [
    "# Laplace Expansion\n",
    "\n",
    "Here we compute the determinant of a matrix via Laplace expansion, using matrix minors."
   ],
   "cell_type": "markdown",
   "metadata": {}
  },
  {
   "cell_type": "code",
   "execution_count": 21,
   "metadata": {},
   "outputs": [],
   "source": [
    "def determinant(n, ary):\n",
    "    if n == 1:\n",
    "        return ary[0,0]\n",
    "    else:\n",
    "        a = ary.astype(np.float)\n",
    "        det = 0\n",
    "        for i in range(0,n):\n",
    "            det += (-1)**i * a[0,i] * determinant(n-1, np.delete(np.delete(a, 0, 0), i, 1))\n",
    "        return det"
   ]
  },
  {
   "cell_type": "code",
   "execution_count": 23,
   "metadata": {},
   "outputs": [
    {
     "output_type": "stream",
     "name": "stdout",
     "text": [
      "1\n-2.0\n12.0\n"
     ]
    }
   ],
   "source": [
    "ary_0 = np.matrix([1])\n",
    "ary_1 = np.matrix([[1,2],[3,4]])\n",
    "ary_2 = np.matrix(\n",
    "   [[3, 2, 1],\n",
    "    [2, 3, 1],\n",
    "    [1, 2, 3]]\n",
    ")\n",
    "print(determinant(1, ary_0))\n",
    "print(determinant(2, ary_1))\n",
    "print(determinant(3, ary_2))"
   ]
  },
  {
   "cell_type": "code",
   "execution_count": null,
   "metadata": {},
   "outputs": [],
   "source": []
  }
 ]
}